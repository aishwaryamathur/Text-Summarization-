{
 "cells": [
  {
   "cell_type": "code",
   "execution_count": 1,
   "id": "7e9df7dd",
   "metadata": {},
   "outputs": [],
   "source": [
    "## Importing necessary libraries\n",
    "\n",
    "import pandas as pd\n",
    "import numpy as np\n",
    "import re\n",
    "import nltk\n",
    "import string\n",
    "import contractions\n",
    "import seaborn as sns\n",
    "import matplotlib.pyplot as plt\n",
    "\n",
    "import warnings\n",
    "warnings.filterwarnings(\"ignore\")\n",
    "from nlp_utils import *\n",
    "\n",
    "from nltk.tokenize import word_tokenize, sent_tokenize\n",
    "from nltk.corpus import stopwords\n",
    "stop_words = set(stopwords.words('english'))\n",
    "\n",
    "from nltk.corpus import stopwords \n",
    "from nltk.stem import WordNetLemmatizer\n",
    "\n",
    "import transformers\n",
    "from transformers import pipeline\n",
    "\n",
    "from heapq import nlargest\n",
    "from torchmetrics.text.rouge import ROUGEScore\n",
    "from pprint import pprint"
   ]
  },
  {
   "cell_type": "code",
   "execution_count": 2,
   "id": "dec07f27",
   "metadata": {},
   "outputs": [
    {
     "data": {
      "text/html": [
       "<div>\n",
       "<style scoped>\n",
       "    .dataframe tbody tr th:only-of-type {\n",
       "        vertical-align: middle;\n",
       "    }\n",
       "\n",
       "    .dataframe tbody tr th {\n",
       "        vertical-align: top;\n",
       "    }\n",
       "\n",
       "    .dataframe thead th {\n",
       "        text-align: right;\n",
       "    }\n",
       "</style>\n",
       "<table border=\"1\" class=\"dataframe\">\n",
       "  <thead>\n",
       "    <tr style=\"text-align: right;\">\n",
       "      <th></th>\n",
       "      <th>id</th>\n",
       "      <th>article</th>\n",
       "      <th>highlights</th>\n",
       "    </tr>\n",
       "  </thead>\n",
       "  <tbody>\n",
       "    <tr>\n",
       "      <th>0</th>\n",
       "      <td>0001d1afc246a7964130f43ae940af6bc6c57f01</td>\n",
       "      <td>By . Associated Press . PUBLISHED: . 14:11 EST...</td>\n",
       "      <td>Bishop John Folda, of North Dakota, is taking ...</td>\n",
       "    </tr>\n",
       "    <tr>\n",
       "      <th>1</th>\n",
       "      <td>0002095e55fcbd3a2f366d9bf92a95433dc305ef</td>\n",
       "      <td>(CNN) -- Ralph Mata was an internal affairs li...</td>\n",
       "      <td>Criminal complaint: Cop used his role to help ...</td>\n",
       "    </tr>\n",
       "    <tr>\n",
       "      <th>2</th>\n",
       "      <td>00027e965c8264c35cc1bc55556db388da82b07f</td>\n",
       "      <td>A drunk driver who killed a young woman in a h...</td>\n",
       "      <td>Craig Eccleston-Todd, 27, had drunk at least t...</td>\n",
       "    </tr>\n",
       "    <tr>\n",
       "      <th>3</th>\n",
       "      <td>0002c17436637c4fe1837c935c04de47adb18e9a</td>\n",
       "      <td>(CNN) -- With a breezy sweep of his pen Presid...</td>\n",
       "      <td>Nina dos Santos says Europe must be ready to a...</td>\n",
       "    </tr>\n",
       "  </tbody>\n",
       "</table>\n",
       "</div>"
      ],
      "text/plain": [
       "                                         id  \\\n",
       "0  0001d1afc246a7964130f43ae940af6bc6c57f01   \n",
       "1  0002095e55fcbd3a2f366d9bf92a95433dc305ef   \n",
       "2  00027e965c8264c35cc1bc55556db388da82b07f   \n",
       "3  0002c17436637c4fe1837c935c04de47adb18e9a   \n",
       "\n",
       "                                             article  \\\n",
       "0  By . Associated Press . PUBLISHED: . 14:11 EST...   \n",
       "1  (CNN) -- Ralph Mata was an internal affairs li...   \n",
       "2  A drunk driver who killed a young woman in a h...   \n",
       "3  (CNN) -- With a breezy sweep of his pen Presid...   \n",
       "\n",
       "                                          highlights  \n",
       "0  Bishop John Folda, of North Dakota, is taking ...  \n",
       "1  Criminal complaint: Cop used his role to help ...  \n",
       "2  Craig Eccleston-Todd, 27, had drunk at least t...  \n",
       "3  Nina dos Santos says Europe must be ready to a...  "
      ]
     },
     "execution_count": 2,
     "metadata": {},
     "output_type": "execute_result"
    }
   ],
   "source": [
    "## Importing the dataset\n",
    "df = pd.read_csv('/Users/simrankodwani/Desktop/Fall 2022/NLP/Project/cnn_dailymail/train.csv')\n",
    "df = df[0:10000]\n",
    "df.head(4)"
   ]
  },
  {
   "cell_type": "code",
   "execution_count": 3,
   "id": "04e5be9a",
   "metadata": {},
   "outputs": [
    {
     "name": "stdout",
     "output_type": "stream",
     "text": [
      "<class 'pandas.core.frame.DataFrame'>\n",
      "RangeIndex: 10000 entries, 0 to 9999\n",
      "Data columns (total 2 columns):\n",
      " #   Column      Non-Null Count  Dtype \n",
      "---  ------      --------------  ----- \n",
      " 0   article     10000 non-null  object\n",
      " 1   highlights  10000 non-null  object\n",
      "dtypes: object(2)\n",
      "memory usage: 156.4+ KB\n"
     ]
    }
   ],
   "source": [
    "df = df.drop(['id'],axis=1)\n",
    "df.info()"
   ]
  },
  {
   "cell_type": "code",
   "execution_count": 4,
   "id": "f1fa9830",
   "metadata": {},
   "outputs": [],
   "source": [
    "## Tokenizing the sentences\n",
    "tokens = []\n",
    "for sentence in df['article']:\n",
    "    tokens.append(word_tokenize(sentence))"
   ]
  },
  {
   "cell_type": "code",
   "execution_count": 5,
   "id": "012a2d02",
   "metadata": {},
   "outputs": [],
   "source": [
    "## Removing punctuations and stopwords from the tokens\n",
    "\n",
    "stop_words= stopwords.words('english') \n",
    "punctuation = string.punctuation\n",
    "punctuation = punctuation.replace('.','')\n",
    "\n",
    "format_sentences = []\n",
    "for sentence in tokens:\n",
    "    words = []\n",
    "    for word in sentence:\n",
    "        if word not in stop_words and word not in punctuation:  \n",
    "            words.append(word.lower())\n",
    "    format_sentences.append(words)"
   ]
  },
  {
   "cell_type": "code",
   "execution_count": 6,
   "id": "6d04e2ed",
   "metadata": {},
   "outputs": [],
   "source": [
    "## Removing re-occuring words (otherwords) and numbers\n",
    "otherwords = ['by','associated','press','published','est','october','updated']\n",
    "\n",
    "formatted_sentences = []\n",
    "for sentence in format_sentences:\n",
    "    words = []\n",
    "    for word in sentence:\n",
    "        if word not in otherwords and not re.search('\\d{2}:\\d{2}',word) and not re.search('\\d{2,4}',word):  \n",
    "            words.append(word)\n",
    "    formatted_sentences.append(words)"
   ]
  },
  {
   "cell_type": "code",
   "execution_count": 7,
   "id": "5e509353",
   "metadata": {},
   "outputs": [],
   "source": [
    "## Lemmatizing sentences\n",
    "lemmatize_sentences = []\n",
    "\n",
    "lemma = WordNetLemmatizer()\n",
    "\n",
    "for sentence in formatted_sentences:\n",
    "    lemmas = []\n",
    "    for word in sentence:\n",
    "        lemmas.append(lemma.lemmatize(word))\n",
    "    lemmatize_sentences.append(lemmas)"
   ]
  },
  {
   "cell_type": "code",
   "execution_count": 8,
   "id": "b2845afa",
   "metadata": {},
   "outputs": [],
   "source": [
    "## Generating sentences from formatted lists\n",
    "corpus = []\n",
    "\n",
    "for sentence in lemmatize_sentences:\n",
    "    words = ' '.join([str(word) for word in sentence])\n",
    "    corpus.append(words)"
   ]
  },
  {
   "cell_type": "code",
   "execution_count": 9,
   "id": "80948833",
   "metadata": {},
   "outputs": [],
   "source": [
    "for sentence in corpus:\n",
    "    sentence = sentence.replace('\\'s','')"
   ]
  },
  {
   "cell_type": "code",
   "execution_count": 10,
   "id": "e30365c4",
   "metadata": {},
   "outputs": [],
   "source": [
    "## Deleting lists that are no longer needed\n",
    "\n",
    "del tokens\n",
    "del format_sentences\n",
    "del formatted_sentences\n",
    "del lemmatize_sentences"
   ]
  },
  {
   "cell_type": "code",
   "execution_count": 11,
   "id": "dc2ace5f",
   "metadata": {},
   "outputs": [
    {
     "data": {
      "application/vnd.jupyter.widget-view+json": {
       "model_id": "8a14e96946be4dd3b75df0610c364d79",
       "version_major": 2,
       "version_minor": 0
      },
      "text/plain": [
       "Downloading:   0%|          | 0.00/1.58k [00:00<?, ?B/s]"
      ]
     },
     "metadata": {},
     "output_type": "display_data"
    },
    {
     "data": {
      "application/vnd.jupyter.widget-view+json": {
       "model_id": "7b4c4e024ad3445ba7f3346416173c4e",
       "version_major": 2,
       "version_minor": 0
      },
      "text/plain": [
       "Downloading:   0%|          | 0.00/1.63G [00:00<?, ?B/s]"
      ]
     },
     "metadata": {},
     "output_type": "display_data"
    },
    {
     "data": {
      "application/vnd.jupyter.widget-view+json": {
       "model_id": "b156b2885e4d4ef996791ce43622a145",
       "version_major": 2,
       "version_minor": 0
      },
      "text/plain": [
       "Downloading:   0%|          | 0.00/899k [00:00<?, ?B/s]"
      ]
     },
     "metadata": {},
     "output_type": "display_data"
    },
    {
     "data": {
      "application/vnd.jupyter.widget-view+json": {
       "model_id": "cb13ffb6709a4c17bfab42e393d61605",
       "version_major": 2,
       "version_minor": 0
      },
      "text/plain": [
       "Downloading:   0%|          | 0.00/456k [00:00<?, ?B/s]"
      ]
     },
     "metadata": {},
     "output_type": "display_data"
    },
    {
     "data": {
      "application/vnd.jupyter.widget-view+json": {
       "model_id": "fb539019b916467890a4e6db6012c3ca",
       "version_major": 2,
       "version_minor": 0
      },
      "text/plain": [
       "Downloading:   0%|          | 0.00/1.36M [00:00<?, ?B/s]"
      ]
     },
     "metadata": {},
     "output_type": "display_data"
    }
   ],
   "source": [
    "summarizer = pipeline(\"summarization\",  model = \"facebook/bart-large-cnn\")\n",
    "rouge = ROUGEScore()\n",
    "def summarize(sentence, target):\n",
    "    ## Getting word counts for sentence\n",
    "    word_count = {}\n",
    "    for word in word_tokenize(sentence):\n",
    "        if word not in ['.']:\n",
    "            if word in word_count.keys():\n",
    "                word_count[word] +=1\n",
    "            else:\n",
    "                word_count[word] = 1\n",
    "    \n",
    "                \n",
    "    ## Getting the word with max count\n",
    "    max_count = max(word_count, key=word_count.get)\n",
    "    \n",
    "    ## \n",
    "    max_val = word_count[max_count]\n",
    "    \n",
    "    ## Dividing the occurence of each word with value of max_val\n",
    "    for key,value in word_count.items():\n",
    "        word_count[key] = word_count[key]/max_val\n",
    "        \n",
    "        \n",
    "    ## Getting sentence scores for each sentence in the corpus\n",
    "    sentence_score = {}\n",
    "    for sentences in sent_tokenize(sentence):\n",
    "        sentence_score[sentences] = 0\n",
    "        for word in sentences:\n",
    "            if word in word_count.keys():\n",
    "                sentence_score[sentences]+=word_count[word]\n",
    "                \n",
    "                    \n",
    "    sentence_list = []\n",
    "    for sentences in sent_tokenize(sentence):\n",
    "        sentence_list.append(sentences)\n",
    "        \n",
    "        \n",
    "    summary = summarizer(sentence_list, \n",
    "                         min_length = 8, \n",
    "                         max_length = 10)\n",
    "    \n",
    "    s = []\n",
    "    for i in range(len(summary)):\n",
    "        s.append(list(summary[i].values()))\n",
    "    flat = [item for sublist in s for item in sublist]\n",
    "    preds = ' '.join(flat)\n",
    "    print(preds)\n",
    "    pprint(rouge(preds, target))"
   ]
  },
  {
   "cell_type": "code",
   "execution_count": 14,
   "id": "ee5f4d93",
   "metadata": {},
   "outputs": [
    {
     "name": "stderr",
     "output_type": "stream",
     "text": [
      "Your max_length is set to 10, but you input_length is only 3. You might consider decreasing max_length manually, e.g. summarizer('...', max_length=1)\n",
      "Your max_length is set to 10, but you input_length is only 8. You might consider decreasing max_length manually, e.g. summarizer('...', max_length=4)\n",
      "Your max_length is set to 10, but you input_length is only 5. You might consider decreasing max_length manually, e.g. summarizer('...', max_length=2)\n",
      "Your max_length is set to 10, but you input_length is only 6. You might consider decreasing max_length manually, e.g. summarizer('...', max_length=3)\n",
      "Your max_length is set to 10, but you input_length is only 8. You might consider decreasing max_length manually, e.g. summarizer('...', max_length=4)\n"
     ]
    },
    {
     "name": "stdout",
     "output_type": "stream",
     "text": [
      "CNN.com will feature iRep  ellie zolfagharif  take look map today ’ likely China is four times bigger than green The Mercator projection map is a The mercator projection map is a Land mass cost distorting size favour You might think advent satellite imagery tool Much due technical reason said mr The biggest challenge impossible portray reality spherical One best alternative mercator projection presented The gall-peters projection make A certain place appear stretched horizontally near A depiction of henricus mart It 's said columbus The map reflects latest theory form world Africa around time larger greenland  brazil five time larger alaska The map suggests scandinavian While look like europe larger north  russia also n't large depicted World map typically diverse ranging heart cone One model invented gerardus merc  land mass cost distorting size favour For instance mercator projection north americ Greenland and greenland also look Africa is bigger than Africa. In fact fit north america af Greenland meanwhile size continent seen gall The map suggests scandinavian A well seems fact map typically put Looking back diversity map reveal history world The chinese globe made by the The creator exaggerated size china placed Werner's heart-shaped Pictured right mercator map turned  for instance the ‘ be on The U.S. created infant Social unrest in the U.S Designer dimitri moor employed Bolshevik guard defeating invading An earlier map called hinese globe  made chinese emperor earliest known ch The creator exaggerated size china placed Waldseemuller map A genuine hand drawn world map drawn The biggest challenge is to portray reality . perhaps emphasise independent  in google earth presented world area concern Almost first time ability create accurate map The price of a home in There agreed standard included le populated ' The infant ussr threatened invasion famine Designer dimitri moor employed Bolshevik guard defeating invading Google map claim 'never-ending A mercator map was created to In mercator projection north america Greenland and greenland also look Today is google map day. Google  google map claim ‘ never- He argues map time place serve certain ‘ no world map definitive transparent ‘ each one continual negotiation maker ’ this map used brit Treaty established u.s\n",
      "{'rouge1_fmeasure': tensor(0.2833),\n",
      " 'rouge1_precision': tensor(0.1894),\n",
      " 'rouge1_recall': tensor(0.5620),\n",
      " 'rouge2_fmeasure': tensor(0.0628),\n",
      " 'rouge2_precision': tensor(0.0419),\n",
      " 'rouge2_recall': tensor(0.1250),\n",
      " 'rougeL_fmeasure': tensor(0.1583),\n",
      " 'rougeL_precision': tensor(0.1058),\n",
      " 'rougeL_recall': tensor(0.3140),\n",
      " 'rougeLsum_fmeasure': tensor(0.2458),\n",
      " 'rougeLsum_precision': tensor(0.1643),\n",
      " 'rougeLsum_recall': tensor(0.4876)}\n"
     ]
    }
   ],
   "source": [
    "summarize(corpus[10], df['highlights'][10])"
   ]
  },
  {
   "cell_type": "code",
   "execution_count": 15,
   "id": "4c538e21",
   "metadata": {},
   "outputs": [
    {
     "data": {
      "text/plain": [
       "\". ellie zolfagharifard . take look map today ’ likely see north america larger africa alaska larger mexico china smaller greenland . but reality china four time bigger greenland africa three time bigger north america mexico larger alaska . the distortion result mercator projection map commonly seen hanging classroom text book created help sailor navigate world . the mercator projection map commonly seen hanging classroom text book created help sailor navigate world . the familiar map give right shape land mass cost distorting size favour wealthy land north . you might think advent satellite imagery tool google map improved view world ’ necessarily case according james wan writing guardian . much due technical reason said mr wan others inconsistences caused ideological assumption change way see world . the biggest challenge impossible portray reality spherical world flat map – problem haunted cartographer century . one best alternative mercator projection presented d. arno peter pictured . the gall-peters projection make seeing relative size place much easier . however also flaw certain place appear stretched horizontally near pole vertically near equator . a depiction world henricus martellus . it 's said columbus used map one like persuade ferdinand aragon isabella castile support early . the map made german cartographer living florence reflects latest theory form world accurate way portraying flat surface . africa around time larger greenland yet map almost size . brazil five time larger alaska yet alaska larger brazil map . the map suggests scandinavian country larger india whereas reality india three time size scandinavian country put together . while look like europe larger north america map reality reverse true . russia also n't large depicted africa larger russia reality . a result shape world map typically diverse ranging heart cone . but diversity gradually faded away one model invented gerardus mercator surpassing others . the familiar 'mercator projection give right shape land mass cost distorting size favour wealthy land north . for instance mercator projection north america look least big slightly larger africa . and greenland also look comparable size . but reality africa larger . in fact fit north america africa still space india argentina tunisia left note mr wan . greenland meanwhile size continent seen gall-peters equal projection provides correct proportion land mass continent . the map suggests scandinavian country larger india whereas reality india three time size scandinavian country put together . a well seems fact map typically put north top mere convention accepted correct world . looking back diversity map reveal history world . the chinese globe made chinese emperor . the creator exaggerated size china placed middle world otherwise consisted mainly small offshore island . the werner heart-shaped project world left the fact map typically put north top mere convention accepted correct world . pictured right mercator map turned head . for instance the ‘ be on guard ’ map . created infant ussr threatened invasion famine . social unrest . to counter designer dimitri moor employed create pro-bolshevik propaganda . using map european russia neighbour moor 's image heroic bolshevik guard defeating invading 'whites helped define soviet union russian popular imagination . an earlier map called hinese globe created reveals ancient chinese view world . made chinese emperor earliest known chinese terrestrial globe fusion east western culture . the creator exaggerated size china placed middle world otherwise consisted mainly small off¬shore island . a century earlier waldseemuller map named envisaged america separate continent first time . photo genuine hand drawn world map drawn therefore country named period . the biggest challenge impossible portray reality spherical world flat map . perhaps emphasise independent existence america map show know pacific lapping western coast south america though existence confirmed year late . in google earth presented world area concern used could centre mapped content overlaid contain whatever think important . almost first time ability create accurate map placed hand everyone transformed way view world . but come price . there agreed standard included le populated 'less important region get ignored . the infant ussr threatened invasion famine social unrest . to counter brilliant designer dimitri moor employed create pro-bolshevik propaganda . using map european russia neighbour moor 's image heroic bolshevik guard defeating invading 'whites helped define soviet union russian popular imagination . google map claim 'never-ending quest perfect map jerry brotton historian cartography author a history world twelve map n't sure . a mercator map created . in mercator projection north america look least big slightly larger africa . and greenland also look comparable size . today billion search made google map day helping people navigate way around street town country . google map claim ‘ never-ending quest perfect map ’ jerry brotton historian cartography author a history world twelve map ’ sure . he argues map time place serve certain purpose . ‘ no world map definitive transparent depiction subject offer disembodied eye onto world ’ writes . ‘ each one continual negotiation maker user understanding world changes. ’ this map used british diplomat negotiating end american war independence paris . richard oswald secretary delegation annotated coloured line show thought past treaty established u.s./canada border .\""
      ]
     },
     "execution_count": 15,
     "metadata": {},
     "output_type": "execute_result"
    }
   ],
   "source": [
    "corpus[10]"
   ]
  },
  {
   "cell_type": "code",
   "execution_count": null,
   "id": "c11fcc8a",
   "metadata": {},
   "outputs": [],
   "source": []
  }
 ],
 "metadata": {
  "kernelspec": {
   "display_name": "Python 3",
   "language": "python",
   "name": "python3"
  },
  "language_info": {
   "codemirror_mode": {
    "name": "ipython",
    "version": 3
   },
   "file_extension": ".py",
   "mimetype": "text/x-python",
   "name": "python",
   "nbconvert_exporter": "python",
   "pygments_lexer": "ipython3",
   "version": "3.8.8"
  }
 },
 "nbformat": 4,
 "nbformat_minor": 5
}
